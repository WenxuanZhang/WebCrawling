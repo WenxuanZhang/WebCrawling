{
 "cells": [
  {
   "cell_type": "markdown",
   "metadata": {},
   "source": [
    "# Chengdu Airbnb Analysis"
   ]
  },
  {
   "cell_type": "markdown",
   "metadata": {},
   "source": [
    "<img src=\"chengdu.jpg\">\n"
   ]
  },
  {
   "cell_type": "markdown",
   "metadata": {},
   "source": [
    "Airbnb has entered China Market Since 2016 and recent report show that it has more than 150,000 listings. How does it works in Chengdu, the biggest city in SouthWest China? How many listing are avaiable? What is their average price? What percentage of home is provided by the superhost? What is the average rating of the experience? What is more, if you would like to start an Abnb in Chengdu, what is the approximate price that you can claim for your apartment?\n",
    "We will find answer in this analysis.\n",
    "\n",
    "### Data Source:\n",
    "* All Data is scraped from airbnb website and the detailed code to scrape the data could be find on github\n",
    "* Data Has also been uploaded on github\n"
   ]
  },
  {
   "cell_type": "code",
   "execution_count": 3,
   "metadata": {
    "collapsed": true
   },
   "outputs": [],
   "source": [
    "import pandas as pd\n",
    "import matplotlib.pyplot as plt\n",
    "%matplotlib inline  "
   ]
  },
  {
   "cell_type": "code",
   "execution_count": 49,
   "metadata": {},
   "outputs": [],
   "source": [
    "abnb = pd.read_csv('/Users/wenxuanzhang/LocalDoc/GitHub/webcrawler/abnb/abnb/abnb.csv')"
   ]
  },
  {
   "cell_type": "markdown",
   "metadata": {},
   "source": [
    "### Price Analysis\n",
    "The average price of all listings is  \\$66.27, and 75% of listings are under \\$76. Only 34 of 306 listings priced over \\$100. The price distribution is M shaped, where about 25% of listings are around 25$ then a lot of room across \\$75. "
   ]
  },
  {
   "cell_type": "code",
   "execution_count": 50,
   "metadata": {},
   "outputs": [
    {
     "data": {
      "text/plain": [
       "count    270.000000\n",
       "mean      63.981481\n",
       "std       43.163513\n",
       "min       11.000000\n",
       "25%       32.000000\n",
       "50%       63.000000\n",
       "75%       76.000000\n",
       "max      210.000000\n",
       "Name: room_price, dtype: float64"
      ]
     },
     "execution_count": 50,
     "metadata": {},
     "output_type": "execute_result"
    }
   ],
   "source": [
    "abnb['room_price'].describe()"
   ]
  },
  {
   "cell_type": "code",
   "execution_count": 51,
   "metadata": {},
   "outputs": [
    {
     "data": {
      "text/plain": [
       "(array([ 30.,  87.,  72.,  56.,   0.,  10.,   0.,   0.,   0.,  15.]),\n",
       " array([  11. ,   30.9,   50.8,   70.7,   90.6,  110.5,  130.4,  150.3,\n",
       "         170.2,  190.1,  210. ]),\n",
       " <a list of 10 Patch objects>)"
      ]
     },
     "execution_count": 51,
     "metadata": {},
     "output_type": "execute_result"
    },
    {
     "data": {
      "image/png": "[encoded data removed]",
      "text/plain": [
       "<matplotlib.figure.Figure at 0x11a55c650>"
      ]
     },
     "metadata": {},
     "output_type": "display_data"
    }
   ],
   "source": [
    "\n",
    "fig = plt.figure()\n",
    "plt.hist([abnb['room_price']])"
   ]
  },
  {
   "cell_type": "code",
   "execution_count": 56,
   "metadata": {},
   "outputs": [
    {
     "data": {
      "text/plain": [
       "room_url\n",
       "https://www.airbnb.com/rooms/14022664?location=Chengdu%2C+Sichuan%2C+China    15\n",
       "https://www.airbnb.com/rooms/16198466?location=Chengdu%2C+Sichuan%2C+China     9\n",
       "https://www.airbnb.com/rooms/18608124?location=Chengdu%2C+Sichuan%2C+China    11\n",
       "https://www.airbnb.com/rooms/19565433?location=Chengdu%2C+Sichuan%2C+China     3\n",
       "https://www.airbnb.com/rooms/19757394?location=Chengdu%2C+Sichuan%2C+China    15\n",
       "https://www.airbnb.com/rooms/19886611?location=Chengdu%2C+Sichuan%2C+China     1\n",
       "https://www.airbnb.com/rooms/20046533?location=Chengdu%2C+Sichuan%2C+China     8\n",
       "https://www.airbnb.com/rooms/20125438?location=Chengdu%2C+Sichuan%2C+China    14\n",
       "https://www.airbnb.com/rooms/20355479?location=Chengdu%2C+Sichuan%2C+China    14\n",
       "https://www.airbnb.com/rooms/20508496?location=Chengdu%2C+Sichuan%2C+China    15\n",
       "https://www.airbnb.com/rooms/20632760?location=Chengdu%2C+Sichuan%2C+China    12\n",
       "https://www.airbnb.com/rooms/20673022?location=Chengdu%2C+Sichuan%2C+China     1\n",
       "https://www.airbnb.com/rooms/21075726?location=Chengdu%2C+Sichuan%2C+China     3\n",
       "https://www.airbnb.com/rooms/21158982?location=Chengdu%2C+Sichuan%2C+China     1\n",
       "https://www.airbnb.com/rooms/21518572?location=Chengdu%2C+Sichuan%2C+China    15\n",
       "https://www.airbnb.com/rooms/21818642?location=Chengdu%2C+Sichuan%2C+China     9\n",
       "https://www.airbnb.com/rooms/22218301?location=Chengdu%2C+Sichuan%2C+China    15\n",
       "https://www.airbnb.com/rooms/22269061?location=Chengdu%2C+Sichuan%2C+China     1\n",
       "https://www.airbnb.com/rooms/22296520?location=Chengdu%2C+Sichuan%2C+China    15\n",
       "https://www.airbnb.com/rooms/22384619?location=Chengdu%2C+Sichuan%2C+China    15\n",
       "https://www.airbnb.com/rooms/22392703?location=Chengdu%2C+Sichuan%2C+China    11\n",
       "https://www.airbnb.com/rooms/22403093?location=Chengdu%2C+Sichuan%2C+China     8\n",
       "https://www.airbnb.com/rooms/22413592?location=Chengdu%2C+Sichuan%2C+China    15\n",
       "https://www.airbnb.com/rooms/22573709?location=Chengdu%2C+Sichuan%2C+China    15\n",
       "https://www.airbnb.com/rooms/22596419?location=Chengdu%2C+Sichuan%2C+China    11\n",
       "https://www.airbnb.com/rooms/22606084?location=Chengdu%2C+Sichuan%2C+China    15\n",
       "https://www.airbnb.com/rooms/22606689?location=Chengdu%2C+Sichuan%2C+China     3\n",
       "Name: room_price, dtype: int64"
      ]
     },
     "execution_count": 56,
     "metadata": {},
     "output_type": "execute_result"
    }
   ],
   "source": [
    "abnb.groupby(['room_url' ])['room_price'].count()"
   ]
  },
  {
   "cell_type": "code",
   "execution_count": 54,
   "metadata": {},
   "outputs": [
    {
     "data": {
      "text/plain": [
       "room_hosting_id\n",
       "14022664    15\n",
       "16198466     9\n",
       "18608124    11\n",
       "19565433     3\n",
       "19757394    15\n",
       "19886611     1\n",
       "20046533     8\n",
       "20125438    14\n",
       "20355479    14\n",
       "20508496    15\n",
       "20632760    12\n",
       "20673022     1\n",
       "21075726     3\n",
       "21158982     1\n",
       "21518572    15\n",
       "21818642     9\n",
       "22218301    15\n",
       "22269061     1\n",
       "22296520    15\n",
       "22384619    15\n",
       "22392703    11\n",
       "22403093     8\n",
       "22413592    15\n",
       "22573709    15\n",
       "22596419    11\n",
       "22606084    15\n",
       "22606689     3\n",
       "Name: room_price, dtype: int64"
      ]
     },
     "execution_count": 54,
     "metadata": {},
     "output_type": "execute_result"
    }
   ],
   "source": [
    "abnb.groupby(['room_hosting_id' ])['room_price'].count()"
   ]
  },
  {
   "cell_type": "code",
   "execution_count": null,
   "metadata": {
    "collapsed": true
   },
   "outputs": [],
   "source": []
  }
 ],
 "metadata": {
  "kernelspec": {
   "display_name": "Python 2",
   "language": "python",
   "name": "python2"
  },
  "language_info": {
   "codemirror_mode": {
    "name": "ipython",
    "version": 2
   },
   "file_extension": ".py",
   "mimetype": "text/x-python",
   "name": "python",
   "nbconvert_exporter": "python",
   "pygments_lexer": "ipython2",
   "version": "2.7.13"
  }
 },
 "nbformat": 4,
 "nbformat_minor": 2
}
