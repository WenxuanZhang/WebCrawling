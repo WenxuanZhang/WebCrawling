{
 "cells": [
  {
   "cell_type": "markdown",
   "metadata": {},
   "source": [
    "# Chengdu Airbnb Analysis"
   ]
  },
  {
   "cell_type": "markdown",
   "metadata": {},
   "source": [
    "<img src=\"chengdu.jpg\">\n"
   ]
  },
  {
   "cell_type": "markdown",
   "metadata": {},
   "source": [
    "Airbnb has entered China Market Since 2016 and recent report show that it has more than 150,000 listings. How does it works in Chengdu, the biggest city in SouthWest China? How many listing are avaiable? What is their average price? What percentage of home is provided by the superhost? What is the average rating of the experience? What is more, if you would like to start an Abnb in Chengdu, what is the approximate price that you can claim for your apartment?\n",
    "We will find answer in this analysis.\n",
    "\n",
    "### Data Source:\n",
    "* All Data is scraped from airbnb website and the detailed code to scrape the data could be find on github\n",
    "* Data Has also been uploaded on github\n"
   ]
  },
  {
   "cell_type": "code",
   "execution_count": 3,
   "metadata": {
    "collapsed": true
   },
   "outputs": [],
   "source": [
    "import pandas as pd\n",
    "import matplotlib.pyplot as plt\n",
    "%matplotlib inline  "
   ]
  },
  {
   "cell_type": "code",
   "execution_count": 4,
   "metadata": {},
   "outputs": [],
   "source": [
    "abnb = pd.read_csv('/Users/wenxuanzhang/LocalDoc/GitHub/webcrawler/abnb/abnb/abnb_all.csv')"
   ]
  },
  {
   "cell_type": "markdown",
   "metadata": {},
   "source": [
    "### Price Analysis\n",
    "The average price of all listings is  \\$66.27, and 75% of listings are under \\$76. Only 34 of 306 listings priced over \\$100. The price distribution is M shaped, where about 25% of listings are around 25$ then a lot of room across \\$75. "
   ]
  },
  {
   "cell_type": "code",
   "execution_count": 12,
   "metadata": {},
   "outputs": [
    {
     "data": {
      "text/plain": [
       "count    306.000000\n",
       "mean      66.277778\n",
       "std       43.097350\n",
       "min       24.000000\n",
       "25%       32.000000\n",
       "50%       63.000000\n",
       "75%       76.000000\n",
       "max      210.000000\n",
       "Name: room_price, dtype: float64"
      ]
     },
     "execution_count": 12,
     "metadata": {},
     "output_type": "execute_result"
    }
   ],
   "source": [
    "abnb['room_price'].describe()"
   ]
  },
  {
   "cell_type": "code",
   "execution_count": 25,
   "metadata": {},
   "outputs": [
    {
     "data": {
      "text/plain": [
       "(array([ 102.,   34.,  102.,   34.,    0.,   17.,    0.,    0.,    0.,   17.]),\n",
       " array([  24. ,   42.6,   61.2,   79.8,   98.4,  117. ,  135.6,  154.2,\n",
       "         172.8,  191.4,  210. ]),\n",
       " <a list of 10 Patch objects>)"
      ]
     },
     "execution_count": 25,
     "metadata": {},
     "output_type": "execute_result"
    },
    {
     "data": {
      "image/png": "[encoded data removed]",
      "text/plain": [
       "<matplotlib.figure.Figure at 0x11a4a5d10>"
      ]
     },
     "metadata": {},
     "output_type": "display_data"
    }
   ],
   "source": [
    "\n",
    "fig = plt.figure()\n",
    "plt.hist([abnb['room_price']])"
   ]
  },
  {
   "cell_type": "code",
   "execution_count": 42,
   "metadata": {},
   "outputs": [
    {
     "data": {
      "text/plain": [
       "host_name\n",
       "Aaron       17\n",
       "Arnold      17\n",
       "Dominica    34\n",
       "Helen       17\n",
       "Jane        17\n",
       "Jaye        17\n",
       "Johanna     17\n",
       "May         17\n",
       "Randy       17\n",
       "丽梅          17\n",
       "佳英          17\n",
       "升全          17\n",
       "可儿          17\n",
       "周           17\n",
       "小哲          17\n",
       "小婷婷妹儿       17\n",
       "藝           17\n",
       "Name: room_price, dtype: int64"
      ]
     },
     "execution_count": 42,
     "metadata": {},
     "output_type": "execute_result"
    }
   ],
   "source": [
    "abnb.groupby(['host_name' ])['room_price'].count()"
   ]
  },
  {
   "cell_type": "code",
   "execution_count": null,
   "metadata": {
    "collapsed": true
   },
   "outputs": [],
   "source": []
  }
 ],
 "metadata": {
  "kernelspec": {
   "display_name": "Python 2",
   "language": "python",
   "name": "python2"
  },
  "language_info": {
   "codemirror_mode": {
    "name": "ipython",
    "version": 2
   },
   "file_extension": ".py",
   "mimetype": "text/x-python",
   "name": "python",
   "nbconvert_exporter": "python",
   "pygments_lexer": "ipython2",
   "version": "2.7.13"
  }
 },
 "nbformat": 4,
 "nbformat_minor": 2
}
